{
 "cells": [
  {
   "cell_type": "markdown",
   "metadata": {},
   "source": [
    "# Alpaca-py crypto trading basic"
   ]
  },
  {
   "cell_type": "markdown",
   "metadata": {},
   "source": [
    "[![Open In Colab](https://colab.research.google.com/assets/colab-badge.svg)](https://colab.research.google.com/github/alpacahq/alpaca-py/blob/master/examples/crypto-trading-basic.ipynb)"
   ]
  },
  {
   "cell_type": "markdown",
   "metadata": {},
   "source": [
    "- This notebook shows how to use alpaca-py with crypto trading API endpoints\n",
    "- Please use ``paper account``. Please ``DO NOT`` use this notebook with live account. In this notebook, we place orders for crypto as an example."
   ]
  },
  {
   "cell_type": "code",
   "execution_count": 1,
   "metadata": {},
   "outputs": [],
   "source": [
    "# Please change the following to your own PAPER api key and secret\n",
    "# You can get them from https://alpaca.markets/\n",
    "import credentials as cs\n",
    "api_key = cs.api_key\n",
    "secret_key = cs.secret_key\n",
    "\n",
    "#### We use paper environment for this example ####\n",
    "paper = True # Please do not modify this. This example is for paper trading only.\n",
    "####\n",
    "\n",
    "# Below are the variables for development this documents\n",
    "# Please do not change these variables\n",
    "trade_api_url = None\n",
    "trade_api_wss = None\n",
    "data_api_url = None\n",
    "stream_data_wss = None"
   ]
  },
  {
   "cell_type": "code",
   "execution_count": null,
   "metadata": {},
   "outputs": [],
   "source": [
    "# install alpaca-py\n",
    "! python3 -m pip install alpaca-py"
   ]
  },
  {
   "cell_type": "code",
   "execution_count": 2,
   "metadata": {},
   "outputs": [],
   "source": [
    "import json\n",
    "from datetime import datetime, timedelta\n",
    "from zoneinfo import ZoneInfo\n",
    "\n",
    "import alpaca\n",
    "from alpaca.data.live.crypto import *\n",
    "from alpaca.data.historical.crypto import *\n",
    "from alpaca.data.requests import *\n",
    "from alpaca.data.timeframe import *\n",
    "from alpaca.trading.client import *\n",
    "from alpaca.trading.stream import *\n",
    "from alpaca.trading.requests import *\n",
    "from alpaca.trading.enums import *\n",
    "from alpaca.common.exceptions import APIError"
   ]
  },
  {
   "cell_type": "code",
   "execution_count": 3,
   "metadata": {},
   "outputs": [],
   "source": [
    "# to run async code in jupyter notebook\n",
    "import nest_asyncio\n",
    "nest_asyncio.apply()"
   ]
  },
  {
   "cell_type": "code",
   "execution_count": 4,
   "metadata": {},
   "outputs": [
    {
     "data": {
      "text/plain": [
       "'0.23.0'"
      ]
     },
     "execution_count": 4,
     "metadata": {},
     "output_type": "execute_result"
    }
   ],
   "source": [
    "# check version of alpaca-py\n",
    "alpaca.__version__"
   ]
  },
  {
   "cell_type": "markdown",
   "metadata": {},
   "source": [
    "# Trading Client"
   ]
  },
  {
   "cell_type": "code",
   "execution_count": 5,
   "metadata": {},
   "outputs": [],
   "source": [
    "# setup clients\n",
    "trade_client = TradingClient(api_key=api_key, secret_key=secret_key, paper=paper, url_override=trade_api_url)"
   ]
  },
  {
   "cell_type": "code",
   "execution_count": 6,
   "metadata": {},
   "outputs": [
    {
     "data": {
      "text/plain": [
       "{   'account_blocked': False,\n",
       "    'account_number': 'PA3JL9EDDPLL',\n",
       "    'accrued_fees': '0',\n",
       "    'buying_power': '199998',\n",
       "    'cash': '99999',\n",
       "    'created_at': datetime.datetime(2023, 5, 26, 10, 24, 2, 366956, tzinfo=TzInfo(UTC)),\n",
       "    'crypto_status': <AccountStatus.ACTIVE: 'ACTIVE'>,\n",
       "    'currency': 'USD',\n",
       "    'daytrade_count': 0,\n",
       "    'daytrading_buying_power': '0',\n",
       "    'equity': '99999',\n",
       "    'id': UUID('09818092-d381-4bcf-a941-8f1ec2ae82c0'),\n",
       "    'initial_margin': '0',\n",
       "    'last_equity': '99999',\n",
       "    'last_maintenance_margin': '0',\n",
       "    'long_market_value': '0',\n",
       "    'maintenance_margin': '0',\n",
       "    'multiplier': '2',\n",
       "    'non_marginable_buying_power': '99999',\n",
       "    'options_approved_level': 2,\n",
       "    'options_buying_power': '99999',\n",
       "    'options_trading_level': 2,\n",
       "    'pattern_day_trader': True,\n",
       "    'pending_transfer_in': '0',\n",
       "    'pending_transfer_out': None,\n",
       "    'portfolio_value': '99999',\n",
       "    'regt_buying_power': '199998',\n",
       "    'short_market_value': '0',\n",
       "    'shorting_enabled': True,\n",
       "    'sma': '99999',\n",
       "    'status': <AccountStatus.ACTIVE: 'ACTIVE'>,\n",
       "    'trade_suspended_by_user': False,\n",
       "    'trading_blocked': False,\n",
       "    'transfers_blocked': False}"
      ]
     },
     "execution_count": 6,
     "metadata": {},
     "output_type": "execute_result"
    }
   ],
   "source": [
    "# check trading account\n",
    "# You can check definition of each field in the following documents\n",
    "# ref. https://docs.alpaca.markets/docs/account-plans\n",
    "# ref. https://docs.alpaca.markets/reference/getaccount-1\n",
    "acct = trade_client.get_account()\n",
    "acct"
   ]
  },
  {
   "cell_type": "code",
   "execution_count": null,
   "metadata": {},
   "outputs": [],
   "source": [
    "# check account configuration\n",
    "# ref. https://docs.alpaca.markets/reference/getaccountconfig-1\n",
    "acct_config = trade_client.get_account_configurations()\n",
    "acct_config"
   ]
  },
  {
   "cell_type": "code",
   "execution_count": null,
   "metadata": {},
   "outputs": [],
   "source": [
    "# get list of crypto pairs\n",
    "# ref. https://docs.alpaca.markets/reference/get-v2-assets-1\n",
    "req = GetAssetsRequest(\n",
    "  asset_class=AssetClass.CRYPTO,\n",
    "  status=AssetStatus.ACTIVE\n",
    ")\n",
    "assets = trade_client.get_all_assets(req)\n",
    "assets[:2]"
   ]
  },
  {
   "cell_type": "markdown",
   "metadata": {},
   "source": [
    "### Orders"
   ]
  },
  {
   "cell_type": "code",
   "execution_count": 7,
   "metadata": {},
   "outputs": [],
   "source": [
    "# we will place orders which Alapca trading platform supports\n",
    "# - order types for crypto: market, limit, stop_limit\n",
    "# - time_in_force for crypto: gtc, ioc.\n",
    "# please refer to the following documents for more details\n",
    "# ref. https://docs.alpaca.markets/docs/orders-at-alpaca\n",
    "# ref. https://docs.alpaca.markets/reference/postorder\n",
    "trail\n",
    "\n",
    "# we will place orders for symbol: BTC/USD in this example\n",
    "symbol = \"BTC/USD\""
   ]
  },
  {
   "cell_type": "code",
   "execution_count": 8,
   "metadata": {},
   "outputs": [
    {
     "data": {
      "text/plain": [
       "{   'asset_class': <AssetClass.CRYPTO: 'crypto'>,\n",
       "    'asset_id': UUID('276e2673-764b-4ab6-a611-caf665ca6340'),\n",
       "    'canceled_at': None,\n",
       "    'client_order_id': '4a861c58-5b79-4a1c-987b-067e23077f93',\n",
       "    'created_at': datetime.datetime(2024, 6, 15, 14, 37, 17, 644728, tzinfo=TzInfo(UTC)),\n",
       "    'expired_at': None,\n",
       "    'extended_hours': False,\n",
       "    'failed_at': None,\n",
       "    'filled_at': None,\n",
       "    'filled_avg_price': None,\n",
       "    'filled_qty': '0',\n",
       "    'hwm': None,\n",
       "    'id': UUID('7df2d9bc-052f-4062-aeee-2c1dd7c25880'),\n",
       "    'legs': None,\n",
       "    'limit_price': None,\n",
       "    'notional': None,\n",
       "    'order_class': <OrderClass.SIMPLE: 'simple'>,\n",
       "    'order_type': <OrderType.MARKET: 'market'>,\n",
       "    'qty': '0.01',\n",
       "    'replaced_at': None,\n",
       "    'replaced_by': None,\n",
       "    'replaces': None,\n",
       "    'side': <OrderSide.BUY: 'buy'>,\n",
       "    'status': <OrderStatus.PENDING_NEW: 'pending_new'>,\n",
       "    'stop_price': None,\n",
       "    'submitted_at': datetime.datetime(2024, 6, 15, 14, 37, 17, 644728, tzinfo=TzInfo(UTC)),\n",
       "    'symbol': 'BTC/USD',\n",
       "    'time_in_force': <TimeInForce.GTC: 'gtc'>,\n",
       "    'trail_percent': None,\n",
       "    'trail_price': None,\n",
       "    'type': <OrderType.MARKET: 'market'>,\n",
       "    'updated_at': datetime.datetime(2024, 6, 15, 14, 37, 17, 645444, tzinfo=TzInfo(UTC))}"
      ]
     },
     "execution_count": 8,
     "metadata": {},
     "output_type": "execute_result"
    }
   ],
   "source": [
    "# simple, market order\n",
    "# you can specify:\n",
    "# or notional value (e.g. 100 USD) (which is in the next example)\n",
    "req = MarketOrderRequest(\n",
    "    symbol = symbol,\n",
    "    qty = 0.01,\n",
    "    side = OrderSide.BUY,\n",
    "    type = OrderType.MARKET,\n",
    "    time_in_force = TimeInForce.GTC,\n",
    ")\n",
    "res = trade_client.submit_order(req)\n",
    "res"
   ]
  },
  {
   "cell_type": "code",
   "execution_count": 9,
   "metadata": {},
   "outputs": [
    {
     "data": {
      "text/plain": [
       "{   'asset_class': <AssetClass.CRYPTO: 'crypto'>,\n",
       "    'asset_id': UUID('276e2673-764b-4ab6-a611-caf665ca6340'),\n",
       "    'canceled_at': None,\n",
       "    'client_order_id': 'ec77104d-2a82-4828-8da2-5ce7b6f4fe4f',\n",
       "    'created_at': datetime.datetime(2024, 6, 15, 14, 38, 39, 175963, tzinfo=TzInfo(UTC)),\n",
       "    'expired_at': None,\n",
       "    'extended_hours': False,\n",
       "    'failed_at': None,\n",
       "    'filled_at': None,\n",
       "    'filled_avg_price': None,\n",
       "    'filled_qty': '0',\n",
       "    'hwm': None,\n",
       "    'id': UUID('539876c9-14df-4ea3-8e36-da8ef9de6c66'),\n",
       "    'legs': None,\n",
       "    'limit_price': None,\n",
       "    'notional': '1.11',\n",
       "    'order_class': <OrderClass.SIMPLE: 'simple'>,\n",
       "    'order_type': <OrderType.MARKET: 'market'>,\n",
       "    'qty': None,\n",
       "    'replaced_at': None,\n",
       "    'replaced_by': None,\n",
       "    'replaces': None,\n",
       "    'side': <OrderSide.BUY: 'buy'>,\n",
       "    'status': <OrderStatus.PENDING_NEW: 'pending_new'>,\n",
       "    'stop_price': None,\n",
       "    'submitted_at': datetime.datetime(2024, 6, 15, 14, 38, 39, 175963, tzinfo=TzInfo(UTC)),\n",
       "    'symbol': 'BTC/USD',\n",
       "    'time_in_force': <TimeInForce.GTC: 'gtc'>,\n",
       "    'trail_percent': None,\n",
       "    'trail_price': None,\n",
       "    'type': <OrderType.MARKET: 'market'>,\n",
       "    'updated_at': datetime.datetime(2024, 6, 15, 14, 38, 39, 177043, tzinfo=TzInfo(UTC))}"
      ]
     },
     "execution_count": 9,
     "metadata": {},
     "output_type": "execute_result"
    }
   ],
   "source": [
    "# simple, market order, notional\n",
    "\n",
    "req = MarketOrderRequest(\n",
    "    symbol = symbol,\n",
    "    notional = 1.11,  # notional is specified in USD, here we specify $1.11\n",
    "    side = OrderSide.BUY,\n",
    "    type = OrderType.MARKET,\n",
    "    time_in_force = TimeInForce.GTC,\n",
    ")\n",
    "res = trade_client.submit_order(req)\n",
    "res"
   ]
  },
  {
   "cell_type": "code",
   "execution_count": 15,
   "metadata": {},
   "outputs": [
    {
     "data": {
      "text/plain": [
       "{   'asset_class': <AssetClass.CRYPTO: 'crypto'>,\n",
       "    'asset_id': UUID('276e2673-764b-4ab6-a611-caf665ca6340'),\n",
       "    'canceled_at': None,\n",
       "    'client_order_id': '63c3e2fb-9037-4c38-bfbb-16ca0e3e7420',\n",
       "    'created_at': datetime.datetime(2024, 6, 15, 14, 44, 3, 377101, tzinfo=TzInfo(UTC)),\n",
       "    'expired_at': None,\n",
       "    'extended_hours': False,\n",
       "    'failed_at': None,\n",
       "    'filled_at': None,\n",
       "    'filled_avg_price': None,\n",
       "    'filled_qty': '0',\n",
       "    'hwm': None,\n",
       "    'id': UUID('69de61c6-337d-4f85-b614-06fee1f54c68'),\n",
       "    'legs': None,\n",
       "    'limit_price': '60000',\n",
       "    'notional': None,\n",
       "    'order_class': <OrderClass.SIMPLE: 'simple'>,\n",
       "    'order_type': <OrderType.LIMIT: 'limit'>,\n",
       "    'qty': '0.01',\n",
       "    'replaced_at': None,\n",
       "    'replaced_by': None,\n",
       "    'replaces': None,\n",
       "    'side': <OrderSide.BUY: 'buy'>,\n",
       "    'status': <OrderStatus.PENDING_NEW: 'pending_new'>,\n",
       "    'stop_price': None,\n",
       "    'submitted_at': datetime.datetime(2024, 6, 15, 14, 44, 3, 377101, tzinfo=TzInfo(UTC)),\n",
       "    'symbol': 'BTC/USD',\n",
       "    'time_in_force': <TimeInForce.GTC: 'gtc'>,\n",
       "    'trail_percent': None,\n",
       "    'trail_price': None,\n",
       "    'type': <OrderType.LIMIT: 'limit'>,\n",
       "    'updated_at': datetime.datetime(2024, 6, 15, 14, 44, 3, 377858, tzinfo=TzInfo(UTC))}"
      ]
     },
     "execution_count": 15,
     "metadata": {},
     "output_type": "execute_result"
    }
   ],
   "source": [
    "# simple, limit order\n",
    "req = LimitOrderRequest(\n",
    "    symbol = symbol,\n",
    "    qty = 0.01,\n",
    "    limit_price = 60000,\n",
    "    side = OrderSide.BUY,\n",
    "    type = OrderType.LIMIT,\n",
    "    time_in_force = TimeInForce.GTC,\n",
    ")\n",
    "res = trade_client.submit_order(req)\n",
    "res"
   ]
  },
  {
   "cell_type": "code",
   "execution_count": 14,
   "metadata": {},
   "outputs": [
    {
     "data": {
      "text/plain": [
       "{   'asset_class': <AssetClass.CRYPTO: 'crypto'>,\n",
       "    'asset_id': UUID('276e2673-764b-4ab6-a611-caf665ca6340'),\n",
       "    'canceled_at': None,\n",
       "    'client_order_id': '2f37176c-3abd-45cb-abbd-e405b8049ae2',\n",
       "    'created_at': datetime.datetime(2024, 6, 15, 14, 43, 59, 64905, tzinfo=TzInfo(UTC)),\n",
       "    'expired_at': None,\n",
       "    'extended_hours': False,\n",
       "    'failed_at': None,\n",
       "    'filled_at': None,\n",
       "    'filled_avg_price': None,\n",
       "    'filled_qty': '0',\n",
       "    'hwm': None,\n",
       "    'id': UUID('942a9675-9d8a-444a-9188-8c008e80ebee'),\n",
       "    'legs': None,\n",
       "    'limit_price': '55000',\n",
       "    'notional': None,\n",
       "    'order_class': <OrderClass.SIMPLE: 'simple'>,\n",
       "    'order_type': <OrderType.STOP_LIMIT: 'stop_limit'>,\n",
       "    'qty': '0.01',\n",
       "    'replaced_at': None,\n",
       "    'replaced_by': None,\n",
       "    'replaces': None,\n",
       "    'side': <OrderSide.BUY: 'buy'>,\n",
       "    'status': <OrderStatus.NEW: 'new'>,\n",
       "    'stop_price': '60000',\n",
       "    'submitted_at': datetime.datetime(2024, 6, 15, 14, 43, 59, 64905, tzinfo=TzInfo(UTC)),\n",
       "    'symbol': 'BTC/USD',\n",
       "    'time_in_force': <TimeInForce.GTC: 'gtc'>,\n",
       "    'trail_percent': None,\n",
       "    'trail_price': None,\n",
       "    'type': <OrderType.STOP_LIMIT: 'stop_limit'>,\n",
       "    'updated_at': datetime.datetime(2024, 6, 15, 14, 43, 59, 66069, tzinfo=TzInfo(UTC))}"
      ]
     },
     "execution_count": 14,
     "metadata": {},
     "output_type": "execute_result"
    }
   ],
   "source": [
    "# stop limit order\n",
    "req = StopLimitOrderRequest(\n",
    "                    symbol = symbol,\n",
    "                    qty = 0.01,\n",
    "                    side = OrderSide.BUY,\n",
    "                    time_in_force = TimeInForce.GTC,\n",
    "                    limit_price = 55000,\n",
    "                    stop_price = 60000\n",
    "                    )\n",
    "\n",
    "res = trade_client.submit_order(req)\n",
    "res"
   ]
  },
  {
   "cell_type": "code",
   "execution_count": 12,
   "metadata": {},
   "outputs": [
    {
     "data": {
      "text/plain": [
       "[{   'asset_class': <AssetClass.CRYPTO: 'crypto'>,\n",
       "     'asset_id': UUID('276e2673-764b-4ab6-a611-caf665ca6340'),\n",
       "     'canceled_at': datetime.datetime(2024, 6, 15, 14, 42, 24, 163546, tzinfo=TzInfo(UTC)),\n",
       "     'client_order_id': '2b5761c0-285e-40e9-be45-cb57be2ccb57',\n",
       "     'created_at': datetime.datetime(2024, 6, 15, 14, 41, 28, 4789, tzinfo=TzInfo(UTC)),\n",
       "     'expired_at': None,\n",
       "     'extended_hours': False,\n",
       "     'failed_at': None,\n",
       "     'filled_at': None,\n",
       "     'filled_avg_price': None,\n",
       "     'filled_qty': '0',\n",
       "     'hwm': None,\n",
       "     'id': UUID('9242e34a-913f-4c83-9a98-5b87cb5bc613'),\n",
       "     'legs': None,\n",
       "     'limit_price': '55000',\n",
       "     'notional': None,\n",
       "     'order_class': <OrderClass.SIMPLE: 'simple'>,\n",
       "     'order_type': <OrderType.STOP_LIMIT: 'stop_limit'>,\n",
       "     'qty': '0.01',\n",
       "     'replaced_at': None,\n",
       "     'replaced_by': None,\n",
       "     'replaces': None,\n",
       "     'side': <OrderSide.BUY: 'buy'>,\n",
       "     'status': <OrderStatus.CANCELED: 'canceled'>,\n",
       "     'stop_price': '60000',\n",
       "     'submitted_at': datetime.datetime(2024, 6, 15, 14, 42, 9, 599089, tzinfo=TzInfo(UTC)),\n",
       "     'symbol': 'BTC/USD',\n",
       "     'time_in_force': <TimeInForce.GTC: 'gtc'>,\n",
       "     'trail_percent': None,\n",
       "     'trail_price': None,\n",
       "     'type': <OrderType.STOP_LIMIT: 'stop_limit'>,\n",
       "     'updated_at': datetime.datetime(2024, 6, 15, 14, 42, 24, 176585, tzinfo=TzInfo(UTC))},\n",
       " {   'asset_class': <AssetClass.CRYPTO: 'crypto'>,\n",
       "     'asset_id': UUID('276e2673-764b-4ab6-a611-caf665ca6340'),\n",
       "     'canceled_at': datetime.datetime(2024, 6, 15, 14, 40, 49, 874121, tzinfo=TzInfo(UTC)),\n",
       "     'client_order_id': 'ab81850b-5bb6-4a4b-a7ef-a1a524204c01',\n",
       "     'created_at': datetime.datetime(2024, 6, 15, 14, 39, 54, 942233, tzinfo=TzInfo(UTC)),\n",
       "     'expired_at': None,\n",
       "     'extended_hours': False,\n",
       "     'failed_at': None,\n",
       "     'filled_at': None,\n",
       "     'filled_avg_price': None,\n",
       "     'filled_qty': '0',\n",
       "     'hwm': None,\n",
       "     'id': UUID('685328c3-3778-4c28-8007-1dd7445b6973'),\n",
       "     'legs': None,\n",
       "     'limit_price': '60000',\n",
       "     'notional': None,\n",
       "     'order_class': <OrderClass.SIMPLE: 'simple'>,\n",
       "     'order_type': <OrderType.LIMIT: 'limit'>,\n",
       "     'qty': '0.01',\n",
       "     'replaced_at': None,\n",
       "     'replaced_by': None,\n",
       "     'replaces': None,\n",
       "     'side': <OrderSide.BUY: 'buy'>,\n",
       "     'status': <OrderStatus.CANCELED: 'canceled'>,\n",
       "     'stop_price': None,\n",
       "     'submitted_at': datetime.datetime(2024, 6, 15, 14, 39, 54, 942233, tzinfo=TzInfo(UTC)),\n",
       "     'symbol': 'BTC/USD',\n",
       "     'time_in_force': <TimeInForce.GTC: 'gtc'>,\n",
       "     'trail_percent': None,\n",
       "     'trail_price': None,\n",
       "     'type': <OrderType.LIMIT: 'limit'>,\n",
       "     'updated_at': datetime.datetime(2024, 6, 15, 14, 40, 49, 927170, tzinfo=TzInfo(UTC))},\n",
       " {   'asset_class': <AssetClass.CRYPTO: 'crypto'>,\n",
       "     'asset_id': UUID('276e2673-764b-4ab6-a611-caf665ca6340'),\n",
       "     'canceled_at': None,\n",
       "     'client_order_id': 'ec77104d-2a82-4828-8da2-5ce7b6f4fe4f',\n",
       "     'created_at': datetime.datetime(2024, 6, 15, 14, 38, 39, 175964, tzinfo=TzInfo(UTC)),\n",
       "     'expired_at': None,\n",
       "     'extended_hours': False,\n",
       "     'failed_at': None,\n",
       "     'filled_at': datetime.datetime(2024, 6, 15, 14, 38, 39, 179322, tzinfo=TzInfo(UTC)),\n",
       "     'filled_avg_price': '66208.225',\n",
       "     'filled_qty': '0.000016437',\n",
       "     'hwm': None,\n",
       "     'id': UUID('539876c9-14df-4ea3-8e36-da8ef9de6c66'),\n",
       "     'legs': None,\n",
       "     'limit_price': None,\n",
       "     'notional': '1.11',\n",
       "     'order_class': <OrderClass.SIMPLE: 'simple'>,\n",
       "     'order_type': <OrderType.MARKET: 'market'>,\n",
       "     'qty': None,\n",
       "     'replaced_at': None,\n",
       "     'replaced_by': None,\n",
       "     'replaces': None,\n",
       "     'side': <OrderSide.BUY: 'buy'>,\n",
       "     'status': <OrderStatus.FILLED: 'filled'>,\n",
       "     'stop_price': None,\n",
       "     'submitted_at': datetime.datetime(2024, 6, 15, 14, 38, 39, 175964, tzinfo=TzInfo(UTC)),\n",
       "     'symbol': 'BTC/USD',\n",
       "     'time_in_force': <TimeInForce.GTC: 'gtc'>,\n",
       "     'trail_percent': None,\n",
       "     'trail_price': None,\n",
       "     'type': <OrderType.MARKET: 'market'>,\n",
       "     'updated_at': datetime.datetime(2024, 6, 15, 14, 38, 39, 227308, tzinfo=TzInfo(UTC))},\n",
       " {   'asset_class': <AssetClass.CRYPTO: 'crypto'>,\n",
       "     'asset_id': UUID('276e2673-764b-4ab6-a611-caf665ca6340'),\n",
       "     'canceled_at': None,\n",
       "     'client_order_id': '4a861c58-5b79-4a1c-987b-067e23077f93',\n",
       "     'created_at': datetime.datetime(2024, 6, 15, 14, 37, 17, 644729, tzinfo=TzInfo(UTC)),\n",
       "     'expired_at': None,\n",
       "     'extended_hours': False,\n",
       "     'failed_at': None,\n",
       "     'filled_at': datetime.datetime(2024, 6, 15, 14, 37, 17, 647436, tzinfo=TzInfo(UTC)),\n",
       "     'filled_avg_price': '66232.85',\n",
       "     'filled_qty': '0.01',\n",
       "     'hwm': None,\n",
       "     'id': UUID('7df2d9bc-052f-4062-aeee-2c1dd7c25880'),\n",
       "     'legs': None,\n",
       "     'limit_price': None,\n",
       "     'notional': None,\n",
       "     'order_class': <OrderClass.SIMPLE: 'simple'>,\n",
       "     'order_type': <OrderType.MARKET: 'market'>,\n",
       "     'qty': '0.01',\n",
       "     'replaced_at': None,\n",
       "     'replaced_by': None,\n",
       "     'replaces': None,\n",
       "     'side': <OrderSide.BUY: 'buy'>,\n",
       "     'status': <OrderStatus.FILLED: 'filled'>,\n",
       "     'stop_price': None,\n",
       "     'submitted_at': datetime.datetime(2024, 6, 15, 14, 37, 17, 644729, tzinfo=TzInfo(UTC)),\n",
       "     'symbol': 'BTC/USD',\n",
       "     'time_in_force': <TimeInForce.GTC: 'gtc'>,\n",
       "     'trail_percent': None,\n",
       "     'trail_price': None,\n",
       "     'type': <OrderType.MARKET: 'market'>,\n",
       "     'updated_at': datetime.datetime(2024, 6, 15, 14, 37, 17, 677332, tzinfo=TzInfo(UTC))}]"
      ]
     },
     "execution_count": 12,
     "metadata": {},
     "output_type": "execute_result"
    }
   ],
   "source": [
    "# get a list of orders including closed (e.g. filled) orders by specifying symbol\n",
    "req = GetOrdersRequest(\n",
    "    status = QueryOrderStatus.ALL,\n",
    "    symbols = [symbol]\n",
    ")\n",
    "orders = trade_client.get_orders(req)\n",
    "orders"
   ]
  },
  {
   "cell_type": "code",
   "execution_count": 13,
   "metadata": {},
   "outputs": [
    {
     "data": {
      "text/html": [
       "<div>\n",
       "<style scoped>\n",
       "    .dataframe tbody tr th:only-of-type {\n",
       "        vertical-align: middle;\n",
       "    }\n",
       "\n",
       "    .dataframe tbody tr th {\n",
       "        vertical-align: top;\n",
       "    }\n",
       "\n",
       "    .dataframe thead th {\n",
       "        text-align: right;\n",
       "    }\n",
       "</style>\n",
       "<table border=\"1\" class=\"dataframe\">\n",
       "  <thead>\n",
       "    <tr style=\"text-align: right;\">\n",
       "      <th></th>\n",
       "      <th>0</th>\n",
       "      <th>1</th>\n",
       "      <th>2</th>\n",
       "      <th>3</th>\n",
       "      <th>4</th>\n",
       "      <th>5</th>\n",
       "      <th>6</th>\n",
       "      <th>7</th>\n",
       "      <th>8</th>\n",
       "      <th>9</th>\n",
       "      <th>...</th>\n",
       "      <th>22</th>\n",
       "      <th>23</th>\n",
       "      <th>24</th>\n",
       "      <th>25</th>\n",
       "      <th>26</th>\n",
       "      <th>27</th>\n",
       "      <th>28</th>\n",
       "      <th>29</th>\n",
       "      <th>30</th>\n",
       "      <th>31</th>\n",
       "    </tr>\n",
       "  </thead>\n",
       "  <tbody>\n",
       "    <tr>\n",
       "      <th>0</th>\n",
       "      <td>(id, 9242e34a-913f-4c83-9a98-5b87cb5bc613)</td>\n",
       "      <td>(client_order_id, 2b5761c0-285e-40e9-be45-cb57...</td>\n",
       "      <td>(created_at, 2024-06-15 14:41:28.004789+00:00)</td>\n",
       "      <td>(updated_at, 2024-06-15 14:42:24.176585+00:00)</td>\n",
       "      <td>(submitted_at, 2024-06-15 14:42:09.599089+00:00)</td>\n",
       "      <td>(filled_at, None)</td>\n",
       "      <td>(expired_at, None)</td>\n",
       "      <td>(canceled_at, 2024-06-15 14:42:24.163546+00:00)</td>\n",
       "      <td>(failed_at, None)</td>\n",
       "      <td>(replaced_at, None)</td>\n",
       "      <td>...</td>\n",
       "      <td>(side, OrderSide.BUY)</td>\n",
       "      <td>(time_in_force, TimeInForce.GTC)</td>\n",
       "      <td>(limit_price, 55000)</td>\n",
       "      <td>(stop_price, 60000)</td>\n",
       "      <td>(status, OrderStatus.CANCELED)</td>\n",
       "      <td>(extended_hours, False)</td>\n",
       "      <td>(legs, None)</td>\n",
       "      <td>(trail_percent, None)</td>\n",
       "      <td>(trail_price, None)</td>\n",
       "      <td>(hwm, None)</td>\n",
       "    </tr>\n",
       "    <tr>\n",
       "      <th>1</th>\n",
       "      <td>(id, 685328c3-3778-4c28-8007-1dd7445b6973)</td>\n",
       "      <td>(client_order_id, ab81850b-5bb6-4a4b-a7ef-a1a5...</td>\n",
       "      <td>(created_at, 2024-06-15 14:39:54.942233+00:00)</td>\n",
       "      <td>(updated_at, 2024-06-15 14:40:49.927170+00:00)</td>\n",
       "      <td>(submitted_at, 2024-06-15 14:39:54.942233+00:00)</td>\n",
       "      <td>(filled_at, None)</td>\n",
       "      <td>(expired_at, None)</td>\n",
       "      <td>(canceled_at, 2024-06-15 14:40:49.874121+00:00)</td>\n",
       "      <td>(failed_at, None)</td>\n",
       "      <td>(replaced_at, None)</td>\n",
       "      <td>...</td>\n",
       "      <td>(side, OrderSide.BUY)</td>\n",
       "      <td>(time_in_force, TimeInForce.GTC)</td>\n",
       "      <td>(limit_price, 60000)</td>\n",
       "      <td>(stop_price, None)</td>\n",
       "      <td>(status, OrderStatus.CANCELED)</td>\n",
       "      <td>(extended_hours, False)</td>\n",
       "      <td>(legs, None)</td>\n",
       "      <td>(trail_percent, None)</td>\n",
       "      <td>(trail_price, None)</td>\n",
       "      <td>(hwm, None)</td>\n",
       "    </tr>\n",
       "    <tr>\n",
       "      <th>2</th>\n",
       "      <td>(id, 539876c9-14df-4ea3-8e36-da8ef9de6c66)</td>\n",
       "      <td>(client_order_id, ec77104d-2a82-4828-8da2-5ce7...</td>\n",
       "      <td>(created_at, 2024-06-15 14:38:39.175964+00:00)</td>\n",
       "      <td>(updated_at, 2024-06-15 14:38:39.227308+00:00)</td>\n",
       "      <td>(submitted_at, 2024-06-15 14:38:39.175964+00:00)</td>\n",
       "      <td>(filled_at, 2024-06-15 14:38:39.179322+00:00)</td>\n",
       "      <td>(expired_at, None)</td>\n",
       "      <td>(canceled_at, None)</td>\n",
       "      <td>(failed_at, None)</td>\n",
       "      <td>(replaced_at, None)</td>\n",
       "      <td>...</td>\n",
       "      <td>(side, OrderSide.BUY)</td>\n",
       "      <td>(time_in_force, TimeInForce.GTC)</td>\n",
       "      <td>(limit_price, None)</td>\n",
       "      <td>(stop_price, None)</td>\n",
       "      <td>(status, OrderStatus.FILLED)</td>\n",
       "      <td>(extended_hours, False)</td>\n",
       "      <td>(legs, None)</td>\n",
       "      <td>(trail_percent, None)</td>\n",
       "      <td>(trail_price, None)</td>\n",
       "      <td>(hwm, None)</td>\n",
       "    </tr>\n",
       "    <tr>\n",
       "      <th>3</th>\n",
       "      <td>(id, 7df2d9bc-052f-4062-aeee-2c1dd7c25880)</td>\n",
       "      <td>(client_order_id, 4a861c58-5b79-4a1c-987b-067e...</td>\n",
       "      <td>(created_at, 2024-06-15 14:37:17.644729+00:00)</td>\n",
       "      <td>(updated_at, 2024-06-15 14:37:17.677332+00:00)</td>\n",
       "      <td>(submitted_at, 2024-06-15 14:37:17.644729+00:00)</td>\n",
       "      <td>(filled_at, 2024-06-15 14:37:17.647436+00:00)</td>\n",
       "      <td>(expired_at, None)</td>\n",
       "      <td>(canceled_at, None)</td>\n",
       "      <td>(failed_at, None)</td>\n",
       "      <td>(replaced_at, None)</td>\n",
       "      <td>...</td>\n",
       "      <td>(side, OrderSide.BUY)</td>\n",
       "      <td>(time_in_force, TimeInForce.GTC)</td>\n",
       "      <td>(limit_price, None)</td>\n",
       "      <td>(stop_price, None)</td>\n",
       "      <td>(status, OrderStatus.FILLED)</td>\n",
       "      <td>(extended_hours, False)</td>\n",
       "      <td>(legs, None)</td>\n",
       "      <td>(trail_percent, None)</td>\n",
       "      <td>(trail_price, None)</td>\n",
       "      <td>(hwm, None)</td>\n",
       "    </tr>\n",
       "  </tbody>\n",
       "</table>\n",
       "<p>4 rows × 32 columns</p>\n",
       "</div>"
      ],
      "text/plain": [
       "                                           0   \\\n",
       "0  (id, 9242e34a-913f-4c83-9a98-5b87cb5bc613)   \n",
       "1  (id, 685328c3-3778-4c28-8007-1dd7445b6973)   \n",
       "2  (id, 539876c9-14df-4ea3-8e36-da8ef9de6c66)   \n",
       "3  (id, 7df2d9bc-052f-4062-aeee-2c1dd7c25880)   \n",
       "\n",
       "                                                  1   \\\n",
       "0  (client_order_id, 2b5761c0-285e-40e9-be45-cb57...   \n",
       "1  (client_order_id, ab81850b-5bb6-4a4b-a7ef-a1a5...   \n",
       "2  (client_order_id, ec77104d-2a82-4828-8da2-5ce7...   \n",
       "3  (client_order_id, 4a861c58-5b79-4a1c-987b-067e...   \n",
       "\n",
       "                                               2   \\\n",
       "0  (created_at, 2024-06-15 14:41:28.004789+00:00)   \n",
       "1  (created_at, 2024-06-15 14:39:54.942233+00:00)   \n",
       "2  (created_at, 2024-06-15 14:38:39.175964+00:00)   \n",
       "3  (created_at, 2024-06-15 14:37:17.644729+00:00)   \n",
       "\n",
       "                                               3   \\\n",
       "0  (updated_at, 2024-06-15 14:42:24.176585+00:00)   \n",
       "1  (updated_at, 2024-06-15 14:40:49.927170+00:00)   \n",
       "2  (updated_at, 2024-06-15 14:38:39.227308+00:00)   \n",
       "3  (updated_at, 2024-06-15 14:37:17.677332+00:00)   \n",
       "\n",
       "                                                 4   \\\n",
       "0  (submitted_at, 2024-06-15 14:42:09.599089+00:00)   \n",
       "1  (submitted_at, 2024-06-15 14:39:54.942233+00:00)   \n",
       "2  (submitted_at, 2024-06-15 14:38:39.175964+00:00)   \n",
       "3  (submitted_at, 2024-06-15 14:37:17.644729+00:00)   \n",
       "\n",
       "                                              5                   6   \\\n",
       "0                              (filled_at, None)  (expired_at, None)   \n",
       "1                              (filled_at, None)  (expired_at, None)   \n",
       "2  (filled_at, 2024-06-15 14:38:39.179322+00:00)  (expired_at, None)   \n",
       "3  (filled_at, 2024-06-15 14:37:17.647436+00:00)  (expired_at, None)   \n",
       "\n",
       "                                                7                  8   \\\n",
       "0  (canceled_at, 2024-06-15 14:42:24.163546+00:00)  (failed_at, None)   \n",
       "1  (canceled_at, 2024-06-15 14:40:49.874121+00:00)  (failed_at, None)   \n",
       "2                              (canceled_at, None)  (failed_at, None)   \n",
       "3                              (canceled_at, None)  (failed_at, None)   \n",
       "\n",
       "                    9   ...                     22  \\\n",
       "0  (replaced_at, None)  ...  (side, OrderSide.BUY)   \n",
       "1  (replaced_at, None)  ...  (side, OrderSide.BUY)   \n",
       "2  (replaced_at, None)  ...  (side, OrderSide.BUY)   \n",
       "3  (replaced_at, None)  ...  (side, OrderSide.BUY)   \n",
       "\n",
       "                                 23                    24  \\\n",
       "0  (time_in_force, TimeInForce.GTC)  (limit_price, 55000)   \n",
       "1  (time_in_force, TimeInForce.GTC)  (limit_price, 60000)   \n",
       "2  (time_in_force, TimeInForce.GTC)   (limit_price, None)   \n",
       "3  (time_in_force, TimeInForce.GTC)   (limit_price, None)   \n",
       "\n",
       "                    25                              26  \\\n",
       "0  (stop_price, 60000)  (status, OrderStatus.CANCELED)   \n",
       "1   (stop_price, None)  (status, OrderStatus.CANCELED)   \n",
       "2   (stop_price, None)    (status, OrderStatus.FILLED)   \n",
       "3   (stop_price, None)    (status, OrderStatus.FILLED)   \n",
       "\n",
       "                        27            28                     29  \\\n",
       "0  (extended_hours, False)  (legs, None)  (trail_percent, None)   \n",
       "1  (extended_hours, False)  (legs, None)  (trail_percent, None)   \n",
       "2  (extended_hours, False)  (legs, None)  (trail_percent, None)   \n",
       "3  (extended_hours, False)  (legs, None)  (trail_percent, None)   \n",
       "\n",
       "                    30           31  \n",
       "0  (trail_price, None)  (hwm, None)  \n",
       "1  (trail_price, None)  (hwm, None)  \n",
       "2  (trail_price, None)  (hwm, None)  \n",
       "3  (trail_price, None)  (hwm, None)  \n",
       "\n",
       "[4 rows x 32 columns]"
      ]
     },
     "execution_count": 13,
     "metadata": {},
     "output_type": "execute_result"
    }
   ],
   "source": [
    "import pandas as pd\n",
    "df=pd.DataFrame(orders)\n",
    "df"
   ]
  },
  {
   "cell_type": "code",
   "execution_count": 16,
   "metadata": {},
   "outputs": [
    {
     "data": {
      "text/plain": [
       "[{   'asset_class': <AssetClass.CRYPTO: 'crypto'>,\n",
       "     'asset_id': UUID('276e2673-764b-4ab6-a611-caf665ca6340'),\n",
       "     'canceled_at': None,\n",
       "     'client_order_id': '63c3e2fb-9037-4c38-bfbb-16ca0e3e7420',\n",
       "     'created_at': datetime.datetime(2024, 6, 15, 14, 44, 3, 377101, tzinfo=TzInfo(UTC)),\n",
       "     'expired_at': None,\n",
       "     'extended_hours': False,\n",
       "     'failed_at': None,\n",
       "     'filled_at': None,\n",
       "     'filled_avg_price': None,\n",
       "     'filled_qty': '0',\n",
       "     'hwm': None,\n",
       "     'id': UUID('69de61c6-337d-4f85-b614-06fee1f54c68'),\n",
       "     'legs': None,\n",
       "     'limit_price': '60000',\n",
       "     'notional': None,\n",
       "     'order_class': <OrderClass.SIMPLE: 'simple'>,\n",
       "     'order_type': <OrderType.LIMIT: 'limit'>,\n",
       "     'qty': '0.01',\n",
       "     'replaced_at': None,\n",
       "     'replaced_by': None,\n",
       "     'replaces': None,\n",
       "     'side': <OrderSide.BUY: 'buy'>,\n",
       "     'status': <OrderStatus.NEW: 'new'>,\n",
       "     'stop_price': None,\n",
       "     'submitted_at': datetime.datetime(2024, 6, 15, 14, 44, 3, 377101, tzinfo=TzInfo(UTC)),\n",
       "     'symbol': 'BTC/USD',\n",
       "     'time_in_force': <TimeInForce.GTC: 'gtc'>,\n",
       "     'trail_percent': None,\n",
       "     'trail_price': None,\n",
       "     'type': <OrderType.LIMIT: 'limit'>,\n",
       "     'updated_at': datetime.datetime(2024, 6, 15, 14, 44, 3, 426352, tzinfo=TzInfo(UTC))},\n",
       " {   'asset_class': <AssetClass.CRYPTO: 'crypto'>,\n",
       "     'asset_id': UUID('276e2673-764b-4ab6-a611-caf665ca6340'),\n",
       "     'canceled_at': None,\n",
       "     'client_order_id': '2f37176c-3abd-45cb-abbd-e405b8049ae2',\n",
       "     'created_at': datetime.datetime(2024, 6, 15, 14, 43, 59, 64905, tzinfo=TzInfo(UTC)),\n",
       "     'expired_at': None,\n",
       "     'extended_hours': False,\n",
       "     'failed_at': None,\n",
       "     'filled_at': None,\n",
       "     'filled_avg_price': None,\n",
       "     'filled_qty': '0',\n",
       "     'hwm': None,\n",
       "     'id': UUID('942a9675-9d8a-444a-9188-8c008e80ebee'),\n",
       "     'legs': None,\n",
       "     'limit_price': '55000',\n",
       "     'notional': None,\n",
       "     'order_class': <OrderClass.SIMPLE: 'simple'>,\n",
       "     'order_type': <OrderType.STOP_LIMIT: 'stop_limit'>,\n",
       "     'qty': '0.01',\n",
       "     'replaced_at': None,\n",
       "     'replaced_by': None,\n",
       "     'replaces': None,\n",
       "     'side': <OrderSide.BUY: 'buy'>,\n",
       "     'status': <OrderStatus.NEW: 'new'>,\n",
       "     'stop_price': '60000',\n",
       "     'submitted_at': datetime.datetime(2024, 6, 15, 14, 44, 0, 40403, tzinfo=TzInfo(UTC)),\n",
       "     'symbol': 'BTC/USD',\n",
       "     'time_in_force': <TimeInForce.GTC: 'gtc'>,\n",
       "     'trail_percent': None,\n",
       "     'trail_price': None,\n",
       "     'type': <OrderType.STOP_LIMIT: 'stop_limit'>,\n",
       "     'updated_at': datetime.datetime(2024, 6, 15, 14, 44, 0, 77191, tzinfo=TzInfo(UTC))}]"
      ]
     },
     "execution_count": 16,
     "metadata": {},
     "output_type": "execute_result"
    }
   ],
   "source": [
    "# see all open orders\n",
    "req = GetOrdersRequest(\n",
    "    status = QueryOrderStatus.OPEN,\n",
    "    symbols = [symbol]\n",
    ")\n",
    "open_orders = trade_client.get_orders(req)\n",
    "open_orders"
   ]
  },
  {
   "cell_type": "code",
   "execution_count": 17,
   "metadata": {},
   "outputs": [
    {
     "data": {
      "text/plain": [
       "[{'id': UUID('69de61c6-337d-4f85-b614-06fee1f54c68'), 'status': 200},\n",
       " {'id': UUID('942a9675-9d8a-444a-9188-8c008e80ebee'), 'status': 200}]"
      ]
     },
     "execution_count": 17,
     "metadata": {},
     "output_type": "execute_result"
    }
   ],
   "source": [
    "# cancel all open orders\n",
    "trade_client.cancel_orders()"
   ]
  },
  {
   "cell_type": "markdown",
   "metadata": {},
   "source": [
    "### Positions"
   ]
  },
  {
   "cell_type": "code",
   "execution_count": null,
   "metadata": {},
   "outputs": [],
   "source": [
    "# get all open positions\n",
    "# ref. https://docs.alpaca.markets/reference/getallopenpositions-1\n",
    "positions = trade_client.get_all_positions()\n",
    "positions"
   ]
  },
  {
   "cell_type": "code",
   "execution_count": null,
   "metadata": {},
   "outputs": [],
   "source": [
    "# get positions by symbol\n",
    "# ref. https://docs.alpaca.markets/reference/getopenposition-1\n",
    "position = trade_client.get_open_position(symbol_or_asset_id=symbol)\n",
    "position\n"
   ]
  },
  {
   "cell_type": "code",
   "execution_count": null,
   "metadata": {},
   "outputs": [],
   "source": [
    "# get positions by asset_id\n",
    "trade_client.get_open_position(symbol_or_asset_id=position.asset_id)"
   ]
  },
  {
   "cell_type": "code",
   "execution_count": null,
   "metadata": {},
   "outputs": [],
   "source": [
    "# close the position with specifying qty\n",
    "# ref. https://docs.alpaca.markets/reference/deleteopenposition-1\n",
    "trade_client.close_position(\n",
    "    symbol_or_asset_id = symbol,\n",
    "    close_options = ClosePositionRequest(\n",
    "        qty = \"0.01\",\n",
    "    )\n",
    ")"
   ]
  },
  {
   "cell_type": "markdown",
   "metadata": {},
   "source": [
    "# Trade Update (Stream)"
   ]
  },
  {
   "cell_type": "markdown",
   "metadata": {},
   "source": [
    "With TradingStream client, you can get updates about trades\n",
    "\n",
    "You can open this notebook in another window and run below cell to check trade updates."
   ]
  },
  {
   "cell_type": "code",
   "execution_count": null,
   "metadata": {},
   "outputs": [],
   "source": [
    "# subscribe trade updates\n",
    "trade_stream_client = TradingStream(api_key, secret_key, paper=paper, url_override = trade_api_wss)\n",
    "\n",
    "async def trade_updates_handler(data):\n",
    "    print(data)\n",
    "\n",
    "trade_stream_client.subscribe_trade_updates(trade_updates_handler)\n",
    "trade_stream_client.run()"
   ]
  },
  {
   "cell_type": "markdown",
   "metadata": {},
   "source": [
    "# Market Data (Historical)"
   ]
  },
  {
   "cell_type": "code",
   "execution_count": null,
   "metadata": {},
   "outputs": [],
   "source": [
    "# setup crypto historical data client\n",
    "crypto_historical_data_client = CryptoHistoricalDataClient()"
   ]
  },
  {
   "cell_type": "code",
   "execution_count": null,
   "metadata": {},
   "outputs": [],
   "source": [
    "# get historical bars by symbol\n",
    "# ref. https://docs.alpaca.markets/reference/cryptobars-1\n",
    "now = datetime.now(ZoneInfo(\"America/New_York\"))\n",
    "req = CryptoBarsRequest(\n",
    "    symbol_or_symbols = [symbol],\n",
    "    timeframe=TimeFrame(amount = 1, unit = TimeFrameUnit.Hour), # specify timeframe\n",
    "    start = now - timedelta(days = 5),                          # specify start datetime, default=the beginning of the current day.\n",
    "    # end_date=None,                                        # specify end datetime, default=now\n",
    "    limit = 2,                                               # specify limit\n",
    ")\n",
    "crypto_historical_data_client.get_crypto_bars(req).df"
   ]
  },
  {
   "cell_type": "code",
   "execution_count": null,
   "metadata": {},
   "outputs": [],
   "source": [
    "# get historical trades by symbol\n",
    "req = CryptoTradesRequest(\n",
    "    symbol_or_symbols = [symbol],\n",
    "    start = now - timedelta(days = 5),                          # specify start datetime, default=the beginning of the current day.\n",
    "    # end=None,                                             # specify end datetime, default=now\n",
    "    limit = 2,                                                # specify limit\n",
    ")\n",
    "crypto_historical_data_client.get_crypto_trades(req).df"
   ]
  },
  {
   "cell_type": "code",
   "execution_count": null,
   "metadata": {},
   "outputs": [],
   "source": [
    "# get latest quotes by symbol\n",
    "req = CryptoLatestQuoteRequest(\n",
    "    symbol_or_symbols = [symbol],\n",
    ")\n",
    "res = crypto_historical_data_client.get_crypto_latest_quote(req)\n",
    "res"
   ]
  }
 ],
 "metadata": {
  "kernelspec": {
   "display_name": ".venv",
   "language": "python",
   "name": "python3"
  },
  "language_info": {
   "codemirror_mode": {
    "name": "ipython",
    "version": 3
   },
   "file_extension": ".py",
   "mimetype": "text/x-python",
   "name": "python",
   "nbconvert_exporter": "python",
   "pygments_lexer": "ipython3",
   "version": "3.12.2"
  }
 },
 "nbformat": 4,
 "nbformat_minor": 2
}
